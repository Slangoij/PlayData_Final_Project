{
  "nbformat": 4,
  "nbformat_minor": 0,
  "metadata": {
    "kernelspec": {
      "display_name": "Python 3",
      "language": "python",
      "name": "python3"
    },
    "language_info": {
      "codemirror_mode": {
        "name": "ipython",
        "version": 3
      },
      "file_extension": ".py",
      "mimetype": "text/x-python",
      "name": "python",
      "nbconvert_exporter": "python",
      "pygments_lexer": "ipython3",
      "version": "3.8.5"
    },
    "colab": {
      "name": "Categorical_MobileNetV2.ipynb",
      "provenance": [],
      "collapsed_sections": []
    },
    "accelerator": "GPU"
  },
  "cells": [
    {
      "cell_type": "code",
      "metadata": {
        "colab": {
          "base_uri": "https://localhost:8080/"
        },
        "id": "NtXGnrunxKwb",
        "outputId": "f174ac55-b3bd-4e73-c34e-d03aa7512543"
      },
      "source": [
        "from google.colab import drive\n",
        "drive.mount('/content/drive')"
      ],
      "execution_count": null,
      "outputs": [
        {
          "output_type": "stream",
          "text": [
            "Mounted at /content/drive\n"
          ],
          "name": "stdout"
        }
      ]
    },
    {
      "cell_type": "code",
      "metadata": {
        "colab": {
          "base_uri": "https://localhost:8080/"
        },
        "id": "Er20WnpgxMrN",
        "outputId": "1e96d7d7-3e92-403e-c6d5-6395d04485a5"
      },
      "source": [
        "%cd /content/drive/MyDrive/PlaydataFinalProject"
      ],
      "execution_count": null,
      "outputs": [
        {
          "output_type": "stream",
          "text": [
            "/content/drive/MyDrive/PlaydataFinalProject\n"
          ],
          "name": "stdout"
        }
      ]
    },
    {
      "cell_type": "code",
      "metadata": {
        "id": "B9jWhbrYwwfM"
      },
      "source": [
        "import os\n",
        "import shutil\n",
        "import numpy as np\n",
        "import matplotlib.pyplot as plt\n",
        "import tensorflow as tf\n",
        "from tensorflow import keras\n",
        "from tensorflow.keras import layers\n",
        "from tensorflow.keras.preprocessing.image import ImageDataGenerator\n",
        "from tensorflow.keras.preprocessing.image import img_to_array, load_img\n",
        "# load_img 함수: 이미지 불러오기\n",
        "# img_to_array함수 : 불러온 이미지를 numpy 배열 (ndarray)로 변환\n",
        "# local에서 사용하려면 Pillow를 설치해야 한다. (pip install Pillow)\n",
        "\n",
        "# split data\n",
        "from sklearn.model_selection import train_test_split\n",
        "# library import\n",
        "import re\n",
        "import random\n",
        "import xml.etree.ElementTree as et\n",
        "from PIL import Image\n",
        " \n",
        "import cv2 \n",
        "from matplotlib.patches import Rectangle # 바운딩 박스를 그림\n",
        "\n",
        " # import the necessary packages\n",
        "from tensorflow.keras.applications import MobileNetV2\n",
        "from tensorflow.keras.layers import AveragePooling2D, Dropout, Flatten, Dense, Input\n",
        "from tensorflow.keras.models import Model\n",
        "from tensorflow.keras.optimizers import Adam\n",
        "from tensorflow.keras.applications.mobilenet_v2 import preprocess_input\n",
        "\n",
        "from tensorflow.keras.utils import to_categorical\n",
        "from sklearn.preprocessing import LabelBinarizer\n",
        "from sklearn.metrics import classification_report\n",
        "# from imutils import paths\n",
        "\n",
        "import argparse\n",
        "import datetime\n",
        "# EfficientNetB0\n",
        "from tensorflow.keras.applications import EfficientNetB0\n",
        "\n",
        "# print(tf.__version__)\n",
        "# print(keras.__version__)\n",
        "np.random.seed(1)\n",
        "tf.random.set_seed(1)"
      ],
      "execution_count": null,
      "outputs": []
    },
    {
      "cell_type": "code",
      "metadata": {
        "pycharm": {
          "name": "#%%\n"
        },
        "id": "r9zZxVzcwwfO"
      },
      "source": [
        "# 하이퍼 파라미터\n",
        "LEARNING_RATE = 0.001\n",
        "N_EPOCHS = 50\n",
        "N_BATCHS = 50\n",
        "N_CLASS = 4 # 클래스 개수\n",
        "CLASS_MODE = 'categorical'\n",
        "INPUT_SHAPE = (640, 360, 3) # 학습할 이미지 shape\n",
        "IMAGE_SIZE = 224\n",
        "IMAGE_SIZE2 = 224\n",
        "########################### 모델에 맞춰 변경해야 한다!\n",
        "FEATURE_SHAPE = (20, 15, 512)\n",
        "\n",
        "BASE_PATH = ''\n",
        "ORIGINAL_PATH = './data/original'\n",
        "AUGMENT_PATH = './data/augmentImg'\n",
        "train_dir = './inputdata_preprocessing/classedImg/train'\n",
        "validation_dir = './inputdata_preprocessing/classedImg/val'\n",
        "test_dir = './inputdata_preprocessing/classedImg/test'"
      ],
      "execution_count": null,
      "outputs": []
    },
    {
      "cell_type": "code",
      "metadata": {
        "pycharm": {
          "name": "#%%\n"
        },
        "id": "r8Fasq22wwfP"
      },
      "source": [
        "# 데이터 증강\n",
        "# shutil.rmtree(AUGMENT_PATH, ignore_errors=True) # 디렉토리 비우기\n",
        "\n",
        "# for subpath in os.listdir(ORIGINAL_PATH):\n",
        "#     os.makedirs(os.path.join(AUGMENT_PATH, subpath), exist_ok=True)\n",
        "#     data_datagen = ImageDataGenerator(rescale=1/255,\n",
        "#                                       rotation_range=3,\n",
        "#                                       zoom_range=0.1,\n",
        "#                                       height_shift_range=0.2,\n",
        "#                                       width_shift_range=0.2,\n",
        "#                                       fill_mode='nearest')\n",
        "#     target_path = os.path.join(ORIGINAL_PATH, subpath)\n",
        "#     filename_in_dir=[]\n",
        "#     for (root, dirs, files) in os.walk(target_path):\n",
        "#         print(\"root \",root, \" dirs\", dirs, \" files \", files)\n",
        "#         for fname in files:\n",
        "#             full_fname = os.path.join(root, fname)\n",
        "#             filename_in_dir.append(full_fname)\n",
        "#     target_image_list = [fname for fname in filename_in_dir if os.path.splitext(fname)[-1]=='.png']\n",
        "#     print(\"target_image_list \", target_image_list)\n",
        "#     for file_image in target_image_list:\n",
        "#         img = load_img(file_image)\n",
        "#         x = img_to_array(img)\n",
        "#         x = x[np.newaxis,...]\n",
        "\n",
        "#         i=0\n",
        "#         for batch in data_datagen.flow(x, save_to_dir=os.path.join(AUGMENT_PATH, subpath), save_prefix='aug', save_format='png'):\n",
        "#             i += 1\n",
        "#             if i > 2: # 데이터 증가시킬 양 결정.\n",
        "#                 break"
      ],
      "execution_count": null,
      "outputs": []
    },
    {
      "cell_type": "code",
      "metadata": {
        "pycharm": {
          "name": "#%%\n"
        },
        "id": "6B3M-vNawwfP",
        "outputId": "484e08a8-d9d6-4430-9e74-b47fa8af2fec"
      },
      "source": [
        "# 데이터 셋 나누기\n",
        "# 기존데이터 디렉토리 지우기\n",
        "shutil.rmtree(train_dir, ignore_errors=True)\n",
        "shutil.rmtree(validation_dir, ignore_errors=True)\n",
        "shutil.rmtree(test_dir, ignore_errors=True)\n",
        "\n",
        "os.makedirs(train_dir,exist_ok=True)\n",
        "os.makedirs(validation_dir,exist_ok=True)\n",
        "os.makedirs(test_dir,exist_ok=True)\n",
        "\n",
        "img_file_list = os.listdir(ORIGINAL_PATH)\n",
        "img_file_list.sort()\n",
        "\n",
        "for i in range(len(img_file_list)): # 라벨폴더별\n",
        "    label = img_file_list[i]\n",
        "\n",
        "    train_under_dir = os.path.join(train_dir, label)\n",
        "    validation_under_dir = os.path.join(validation_dir, label)\n",
        "    test_under_dir = os.path.join(test_dir,label)\n",
        "\n",
        "    os.makedirs(train_under_dir, exist_ok=True)\n",
        "    os.makedirs(validation_under_dir, exist_ok=True)\n",
        "    os.makedirs(test_under_dir, exist_ok=True)\n",
        "\n",
        "    tmp_img_path = os.path.join(ORIGINAL_PATH, label)\n",
        "    img_list = os.listdir(tmp_img_path)\n",
        "    train_len= int(len(img_list)*0.7) # 70% train data\n",
        "    val_len = int(len(img_list)*0.9) # 20% val data, test = 10%\n",
        "    random.shuffle(img_list)\n",
        "\n",
        "    count = 0\n",
        "    for img_name in img_list:\n",
        "        if count < train_len:\n",
        "            shutil.copy(os.path.join(tmp_img_path,img_name), os.path.join(train_under_dir, img_name))\n",
        "        elif count < val_len:\n",
        "            shutil.copy(os.path.join(tmp_img_path,img_name), os.path.join(validation_under_dir, img_name))\n",
        "#             shutil.copy(os.path.join(tmp_img_path,img_name), os.path.join(validation_under_dir, img_name))\n",
        "        else:\n",
        "            shutil.copy(os.path.join(tmp_img_path,img_name), os.path.join(test_under_dir, img_name))\n",
        "#             shutil.copy(os.path.join(tmp_img_path, img_name), os.path.join(test_under_dir, img_name))\n",
        "        count+=1\n",
        "# train, val, test 각폴더내 데이터 개수\n",
        "data_cnts = []\n",
        "for dirs in [train_dir, validation_dir, test_dir]:\n",
        "    cnt = 0\n",
        "    for (path, dir, files) in os.walk(dirs):\n",
        "        cnt += len(files)\n",
        "    data_cnts.append(cnt)\n",
        "print(data_cnts)"
      ],
      "execution_count": null,
      "outputs": [
        {
          "output_type": "stream",
          "text": [
            "[831, 237, 121]\n"
          ],
          "name": "stdout"
        }
      ]
    },
    {
      "cell_type": "code",
      "metadata": {
        "pycharm": {
          "name": "#%%\n"
        },
        "id": "tYsmXnsdwwfQ"
      },
      "source": [
        "def get_generators():\n",
        "    '''\n",
        "    train, validation, test generator를 생성해서 반환.\n",
        "    train generator는 image 변환 처리\n",
        "    '''\n",
        "    # 상하좌우 이동, 확대, 회전 이미지로 증강\n",
        "    train_datagen = ImageDataGenerator(rescale=1/255,\n",
        "                                       # rotation_range=3,\n",
        "                                       zoom_range=0.2,\n",
        "                                       height_shift_range=0.1,\n",
        "                                       width_shift_range=0.1,\n",
        "                                       brightness_range=[0.4,1.2],\n",
        "                                       fill_mode='nearest'\n",
        "                                       )\n",
        "\n",
        "    test_datagen = ImageDataGenerator(rescale=1/255) #validation/test에서 사용\n",
        "\n",
        "    # generator 들 생성\n",
        "    # 첫번째는 먼저 한동작이므로 동작과 비동작으로 바이너리 구분만\n",
        "    train_generator = train_datagen.flow_from_directory(train_dir,\n",
        "                                                        target_size=(IMAGE_SIZE2,IMAGE_SIZE),\n",
        "                                                        batch_size=N_BATCHS,\n",
        "                                                        class_mode=CLASS_MODE)\n",
        "    val_generator = test_datagen.flow_from_directory(validation_dir,\n",
        "                                                     target_size=(IMAGE_SIZE2,IMAGE_SIZE),\n",
        "                                                     batch_size=N_BATCHS,\n",
        "                                                     class_mode=CLASS_MODE)\n",
        "    test_generator = test_datagen.flow_from_directory(test_dir,\n",
        "                                                      target_size=(IMAGE_SIZE2,IMAGE_SIZE),\n",
        "                                                      batch_size=N_BATCHS,\n",
        "                                                      class_mode=CLASS_MODE)\n",
        "    return train_generator, val_generator, test_generator"
      ],
      "execution_count": null,
      "outputs": []
    },
    {
      "cell_type": "code",
      "metadata": {
        "pycharm": {
          "name": "#%%\n"
        },
        "id": "xXaTztmpwwfR"
      },
      "source": [
        "# 결과 출력 function\n",
        "def plot_result(history, ymin=0, ymax=1.0):\n",
        "    plt.figure(figsize=(15,5))\n",
        "\n",
        "    plt.subplot(1,2,1)\n",
        "    plt.plot(range(1,N_EPOCHS+1), history.history['loss'], label=\"train_loss\")\n",
        "    plt.plot(range(1,N_EPOCHS+1), history.history['val_loss'], label=\"val_loss\")\n",
        "    plt.title('Loss')\n",
        "    plt.xlabel('Epochs')\n",
        "    plt.ylabel('Loss')\n",
        "    # if ymin is not None and ymax is not None:\n",
        "    #     plt.ylim(ymin,ymax)\n",
        "    plt.ylim(ymin,ymax)\n",
        "    plt.legend()\n",
        "\n",
        "    plt.subplot(1,2,2)\n",
        "    plt.plot(range(1,N_EPOCHS+1), history.history['accuracy'], label=\"train_accuracy\")\n",
        "    plt.plot(range(1,N_EPOCHS+1), history.history['val_accuracy'], label=\"val_accuracy\")\n",
        "    plt.title('Accuracy')\n",
        "    plt.xlabel('Epochs')\n",
        "    plt.ylabel('Accuracy')\n",
        "    plt.ylim(ymin,ymax)\n",
        "    plt.legend()\n",
        "\n",
        "    plt.tight_layout()\n",
        "    plt.show()"
      ],
      "execution_count": null,
      "outputs": []
    },
    {
      "cell_type": "code",
      "metadata": {
        "pycharm": {
          "name": "#%%\n"
        },
        "id": "ZnDWoGd3wwfS"
      },
      "source": [
        "def create_model():\n",
        "    conv_base = MobileNetV2(input_shape=(IMAGE_SIZE2,IMAGE_SIZE,3),\n",
        "                            weights='imagenet',\n",
        "                            include_top=False,\n",
        "                            input_tensor=Input(shape=(IMAGE_SIZE2, IMAGE_SIZE,3))\n",
        "                            )\n",
        "    conv_base.trainable=False \n",
        "    model = keras.Sequential()\n",
        "    model.add(conv_base)\n",
        "    model.add(layers.GlobalAveragePooling2D())\n",
        "    model.add(layers.Dropout(rate=0.5))\n",
        "    model.add(layers.Dense(256))\n",
        "    model.add(layers.BatchNormalization())\n",
        "    model.add(layers.ReLU())\n",
        "    model.add(layers.Dense(128))\n",
        "    model.add(layers.BatchNormalization())\n",
        "    model.add(layers.ReLU())\n",
        "\n",
        "\n",
        "    # 출력\n",
        "    model.add(layers.Dense(N_CLASS, activation='softmax'))\n",
        "\n",
        "    return model"
      ],
      "execution_count": null,
      "outputs": []
    },
    {
      "cell_type": "code",
      "metadata": {
        "pycharm": {
          "name": "#%%\n"
        },
        "colab": {
          "base_uri": "https://localhost:8080/"
        },
        "id": "mp3OctvBwwfS",
        "outputId": "4b1d2ee1-236f-47c8-c5ee-866f42fa88ad"
      },
      "source": [
        "model = create_model()\n",
        "model.summary()\n",
        "model.compile(optimizer=keras.optimizers.Adam(learning_rate=LEARNING_RATE),\n",
        "              loss='categorical_crossentropy', metrics=['accuracy']\n",
        "              )"
      ],
      "execution_count": null,
      "outputs": [
        {
          "output_type": "stream",
          "text": [
            "Downloading data from https://storage.googleapis.com/tensorflow/keras-applications/mobilenet_v2/mobilenet_v2_weights_tf_dim_ordering_tf_kernels_1.0_224_no_top.h5\n",
            "9412608/9406464 [==============================] - 0s 0us/step\n",
            "Model: \"sequential\"\n",
            "_________________________________________________________________\n",
            "Layer (type)                 Output Shape              Param #   \n",
            "=================================================================\n",
            "mobilenetv2_1.00_224 (Functi (None, 7, 7, 1280)        2257984   \n",
            "_________________________________________________________________\n",
            "global_average_pooling2d (Gl (None, 1280)              0         \n",
            "_________________________________________________________________\n",
            "dropout (Dropout)            (None, 1280)              0         \n",
            "_________________________________________________________________\n",
            "dense (Dense)                (None, 256)               327936    \n",
            "_________________________________________________________________\n",
            "batch_normalization (BatchNo (None, 256)               1024      \n",
            "_________________________________________________________________\n",
            "re_lu (ReLU)                 (None, 256)               0         \n",
            "_________________________________________________________________\n",
            "dense_1 (Dense)              (None, 128)               32896     \n",
            "_________________________________________________________________\n",
            "batch_normalization_1 (Batch (None, 128)               512       \n",
            "_________________________________________________________________\n",
            "re_lu_1 (ReLU)               (None, 128)               0         \n",
            "_________________________________________________________________\n",
            "dense_2 (Dense)              (None, 4)                 516       \n",
            "=================================================================\n",
            "Total params: 2,620,868\n",
            "Trainable params: 362,116\n",
            "Non-trainable params: 2,258,752\n",
            "_________________________________________________________________\n"
          ],
          "name": "stdout"
        }
      ]
    },
    {
      "cell_type": "code",
      "metadata": {
        "pycharm": {
          "name": "#%%\n"
        },
        "colab": {
          "base_uri": "https://localhost:8080/"
        },
        "id": "JKDFBfoXwwfS",
        "outputId": "d1bf2dde-c60e-49dc-e2a7-c5c5bdba17da"
      },
      "source": [
        "train_iterator, validation_iterator, test_iterator = get_generators()"
      ],
      "execution_count": null,
      "outputs": [
        {
          "output_type": "stream",
          "text": [
            "Found 831 images belonging to 4 classes.\n",
            "Found 237 images belonging to 4 classes.\n",
            "Found 121 images belonging to 4 classes.\n"
          ],
          "name": "stdout"
        }
      ]
    },
    {
      "cell_type": "code",
      "metadata": {
        "pycharm": {
          "name": "#%%\n"
        },
        "id": "rXAP4_ujwwfT"
      },
      "source": [
        "# 학습 설정 콜백 함수\n",
        "MODEL_PATH = './models'\n",
        "callback_path = os.path.join(MODEL_PATH, 'save_model_{epoch:02d}.ckpt')\n",
        "mc_callback = keras.callbacks.ModelCheckpoint(callback_path, monitor='val_loss', save_best_only=True)"
      ],
      "execution_count": null,
      "outputs": []
    },
    {
      "cell_type": "code",
      "metadata": {
        "pycharm": {
          "name": "#%%\n"
        },
        "scrolled": false,
        "colab": {
          "base_uri": "https://localhost:8080/"
        },
        "id": "EeXL7IaBwwfT",
        "outputId": "da5fc952-b1ff-4b06-9cda-21cb3070caac"
      },
      "source": [
        "history = model.fit(train_iterator,\n",
        "                    epochs=N_EPOCHS,\n",
        "                    steps_per_epoch=len(train_iterator),\n",
        "                    validation_data=validation_iterator,\n",
        "                    validation_steps=len(validation_iterator),\n",
        "#                     callbacks=[mc_callback]\n",
        "                    )"
      ],
      "execution_count": null,
      "outputs": [
        {
          "output_type": "stream",
          "text": [
            "Epoch 1/50\n",
            "17/17 [==============================] - 256s 13s/step - loss: 0.7212 - accuracy: 0.6763 - val_loss: 0.4191 - val_accuracy: 0.7890\n",
            "Epoch 2/50\n",
            "17/17 [==============================] - 15s 877ms/step - loss: 0.4016 - accuracy: 0.8291 - val_loss: 0.3160 - val_accuracy: 0.8861\n",
            "Epoch 3/50\n",
            "17/17 [==============================] - 15s 878ms/step - loss: 0.3465 - accuracy: 0.8436 - val_loss: 0.3426 - val_accuracy: 0.8143\n",
            "Epoch 4/50\n",
            "17/17 [==============================] - 15s 874ms/step - loss: 0.3115 - accuracy: 0.8544 - val_loss: 0.2543 - val_accuracy: 0.8945\n",
            "Epoch 5/50\n",
            "17/17 [==============================] - 15s 863ms/step - loss: 0.2793 - accuracy: 0.8857 - val_loss: 0.2542 - val_accuracy: 0.8861\n",
            "Epoch 6/50\n",
            "17/17 [==============================] - 15s 872ms/step - loss: 0.2560 - accuracy: 0.9001 - val_loss: 0.2978 - val_accuracy: 0.8650\n",
            "Epoch 7/50\n",
            "17/17 [==============================] - 15s 872ms/step - loss: 0.2726 - accuracy: 0.8833 - val_loss: 0.2567 - val_accuracy: 0.8650\n",
            "Epoch 8/50\n",
            "17/17 [==============================] - 15s 899ms/step - loss: 0.2422 - accuracy: 0.8953 - val_loss: 0.2560 - val_accuracy: 0.8734\n",
            "Epoch 9/50\n",
            "17/17 [==============================] - 15s 880ms/step - loss: 0.2162 - accuracy: 0.9085 - val_loss: 0.2402 - val_accuracy: 0.8987\n",
            "Epoch 10/50\n",
            "17/17 [==============================] - 15s 870ms/step - loss: 0.2213 - accuracy: 0.9049 - val_loss: 0.2763 - val_accuracy: 0.8819\n",
            "Epoch 11/50\n",
            "17/17 [==============================] - 15s 878ms/step - loss: 0.2325 - accuracy: 0.8941 - val_loss: 0.2421 - val_accuracy: 0.8903\n",
            "Epoch 12/50\n",
            "17/17 [==============================] - 15s 875ms/step - loss: 0.2095 - accuracy: 0.9001 - val_loss: 0.2040 - val_accuracy: 0.9156\n",
            "Epoch 13/50\n",
            "17/17 [==============================] - 15s 876ms/step - loss: 0.2153 - accuracy: 0.9085 - val_loss: 0.2062 - val_accuracy: 0.9156\n",
            "Epoch 14/50\n",
            "17/17 [==============================] - 15s 905ms/step - loss: 0.1972 - accuracy: 0.9146 - val_loss: 0.1950 - val_accuracy: 0.9198\n",
            "Epoch 15/50\n",
            "17/17 [==============================] - 15s 865ms/step - loss: 0.2240 - accuracy: 0.9073 - val_loss: 0.2077 - val_accuracy: 0.9072\n",
            "Epoch 16/50\n",
            "17/17 [==============================] - 15s 882ms/step - loss: 0.2163 - accuracy: 0.9146 - val_loss: 0.2519 - val_accuracy: 0.8819\n",
            "Epoch 17/50\n",
            "17/17 [==============================] - 15s 881ms/step - loss: 0.2012 - accuracy: 0.9170 - val_loss: 0.2197 - val_accuracy: 0.9156\n",
            "Epoch 18/50\n",
            "17/17 [==============================] - 15s 881ms/step - loss: 0.1630 - accuracy: 0.9338 - val_loss: 0.2137 - val_accuracy: 0.8987\n",
            "Epoch 19/50\n",
            "17/17 [==============================] - 15s 890ms/step - loss: 0.2018 - accuracy: 0.9134 - val_loss: 0.2018 - val_accuracy: 0.9198\n",
            "Epoch 20/50\n",
            "17/17 [==============================] - 15s 877ms/step - loss: 0.2005 - accuracy: 0.9122 - val_loss: 0.2033 - val_accuracy: 0.9114\n",
            "Epoch 21/50\n",
            "17/17 [==============================] - 15s 885ms/step - loss: 0.1855 - accuracy: 0.9266 - val_loss: 0.2714 - val_accuracy: 0.8861\n",
            "Epoch 22/50\n",
            "17/17 [==============================] - 15s 885ms/step - loss: 0.1865 - accuracy: 0.9206 - val_loss: 0.2486 - val_accuracy: 0.8945\n",
            "Epoch 23/50\n",
            "17/17 [==============================] - 15s 890ms/step - loss: 0.1992 - accuracy: 0.9085 - val_loss: 0.2185 - val_accuracy: 0.9241\n",
            "Epoch 24/50\n",
            "17/17 [==============================] - 15s 887ms/step - loss: 0.1556 - accuracy: 0.9362 - val_loss: 0.2118 - val_accuracy: 0.9198\n",
            "Epoch 25/50\n",
            "17/17 [==============================] - 15s 880ms/step - loss: 0.1650 - accuracy: 0.9266 - val_loss: 0.1998 - val_accuracy: 0.9156\n",
            "Epoch 26/50\n",
            "17/17 [==============================] - 15s 885ms/step - loss: 0.2010 - accuracy: 0.9097 - val_loss: 0.1984 - val_accuracy: 0.9114\n",
            "Epoch 27/50\n",
            "17/17 [==============================] - 15s 880ms/step - loss: 0.1678 - accuracy: 0.9302 - val_loss: 0.1701 - val_accuracy: 0.9283\n",
            "Epoch 28/50\n",
            "17/17 [==============================] - 15s 875ms/step - loss: 0.1623 - accuracy: 0.9314 - val_loss: 0.1794 - val_accuracy: 0.9198\n",
            "Epoch 29/50\n",
            "17/17 [==============================] - 15s 872ms/step - loss: 0.2035 - accuracy: 0.9122 - val_loss: 0.1823 - val_accuracy: 0.9198\n",
            "Epoch 30/50\n",
            "17/17 [==============================] - 15s 874ms/step - loss: 0.1656 - accuracy: 0.9338 - val_loss: 0.1966 - val_accuracy: 0.9114\n",
            "Epoch 31/50\n",
            "17/17 [==============================] - 15s 875ms/step - loss: 0.1487 - accuracy: 0.9350 - val_loss: 0.1858 - val_accuracy: 0.9241\n",
            "Epoch 32/50\n",
            "17/17 [==============================] - 15s 880ms/step - loss: 0.1757 - accuracy: 0.9242 - val_loss: 0.1941 - val_accuracy: 0.9156\n",
            "Epoch 33/50\n",
            "17/17 [==============================] - 15s 875ms/step - loss: 0.1620 - accuracy: 0.9254 - val_loss: 0.1775 - val_accuracy: 0.9283\n",
            "Epoch 34/50\n",
            "17/17 [==============================] - 15s 882ms/step - loss: 0.1796 - accuracy: 0.9182 - val_loss: 0.1876 - val_accuracy: 0.9198\n",
            "Epoch 35/50\n",
            "17/17 [==============================] - 15s 864ms/step - loss: 0.1741 - accuracy: 0.9266 - val_loss: 0.1721 - val_accuracy: 0.9367\n",
            "Epoch 36/50\n",
            "17/17 [==============================] - 15s 887ms/step - loss: 0.1544 - accuracy: 0.9254 - val_loss: 0.1784 - val_accuracy: 0.9367\n",
            "Epoch 37/50\n",
            "17/17 [==============================] - 15s 880ms/step - loss: 0.1617 - accuracy: 0.9302 - val_loss: 0.1821 - val_accuracy: 0.9241\n",
            "Epoch 38/50\n",
            "17/17 [==============================] - 16s 917ms/step - loss: 0.1393 - accuracy: 0.9410 - val_loss: 0.1871 - val_accuracy: 0.9283\n",
            "Epoch 39/50\n",
            "17/17 [==============================] - 16s 941ms/step - loss: 0.1559 - accuracy: 0.9302 - val_loss: 0.1894 - val_accuracy: 0.9072\n",
            "Epoch 40/50\n",
            "17/17 [==============================] - 16s 915ms/step - loss: 0.1453 - accuracy: 0.9374 - val_loss: 0.1780 - val_accuracy: 0.9325\n",
            "Epoch 41/50\n",
            "17/17 [==============================] - 15s 911ms/step - loss: 0.1821 - accuracy: 0.9290 - val_loss: 0.1721 - val_accuracy: 0.9325\n",
            "Epoch 42/50\n",
            "17/17 [==============================] - 15s 894ms/step - loss: 0.1689 - accuracy: 0.9290 - val_loss: 0.1635 - val_accuracy: 0.9367\n",
            "Epoch 43/50\n",
            "17/17 [==============================] - 15s 905ms/step - loss: 0.1397 - accuracy: 0.9422 - val_loss: 0.1656 - val_accuracy: 0.9367\n",
            "Epoch 44/50\n",
            "17/17 [==============================] - 15s 874ms/step - loss: 0.1526 - accuracy: 0.9386 - val_loss: 0.1853 - val_accuracy: 0.9241\n",
            "Epoch 45/50\n",
            "17/17 [==============================] - 15s 883ms/step - loss: 0.1428 - accuracy: 0.9374 - val_loss: 0.1953 - val_accuracy: 0.9156\n",
            "Epoch 46/50\n",
            "17/17 [==============================] - 15s 891ms/step - loss: 0.1763 - accuracy: 0.9230 - val_loss: 0.1672 - val_accuracy: 0.9241\n",
            "Epoch 47/50\n",
            "17/17 [==============================] - 15s 897ms/step - loss: 0.1474 - accuracy: 0.9326 - val_loss: 0.1636 - val_accuracy: 0.9283\n",
            "Epoch 48/50\n",
            "17/17 [==============================] - 15s 881ms/step - loss: 0.1546 - accuracy: 0.9326 - val_loss: 0.1517 - val_accuracy: 0.9325\n",
            "Epoch 49/50\n",
            "17/17 [==============================] - 15s 881ms/step - loss: 0.1377 - accuracy: 0.9483 - val_loss: 0.1506 - val_accuracy: 0.9367\n",
            "Epoch 50/50\n",
            "17/17 [==============================] - 15s 876ms/step - loss: 0.1573 - accuracy: 0.9302 - val_loss: 0.1479 - val_accuracy: 0.9283\n"
          ],
          "name": "stdout"
        }
      ]
    },
    {
      "cell_type": "code",
      "metadata": {
        "id": "u9t947PIwwfT",
        "outputId": "b0d4eac4-a8ef-4c54-bc40-3c73539bc91b"
      },
      "source": [
        "dtime = datetime.datetime.now()\n",
        "ptime = dtime.strftime('%Y-%m-%d_%H-%M-%S')\n",
        "print(ptime)"
      ],
      "execution_count": null,
      "outputs": [
        {
          "output_type": "stream",
          "text": [
            "2021-06-24_14-16-26\n"
          ],
          "name": "stdout"
        }
      ]
    },
    {
      "cell_type": "code",
      "metadata": {
        "pycharm": {
          "name": "#%%\n"
        },
        "colab": {
          "base_uri": "https://localhost:8080/"
        },
        "id": "dnGZI6-twwfU",
        "outputId": "4cd69481-46fb-4fee-a40f-75e873bc79fa"
      },
      "source": [
        "# 모델 저장\n",
        "t = datetime.datetime.now()\n",
        "ttime = t.strftime('%Y-%m-%d_%H-%M-%S')\n",
        "# t = datetime.datetime().now().strftime('%Y')\n",
        "save_model_path = os.path.join(MODEL_PATH, f'MobileNetV2Colab-{ttime}.h5')\n",
        "model.save(save_model_path, save_format='h5')\n",
        "\n",
        "# 모델 load\n",
        "# model = keras.models.load_model(os.path.join(save_model_path, '파일'))"
      ],
      "execution_count": null,
      "outputs": [
        {
          "output_type": "stream",
          "text": [
            "/usr/local/lib/python3.7/dist-packages/tensorflow/python/keras/utils/generic_utils.py:497: CustomMaskWarning: Custom mask layers require a config and must override get_config. When loading, the custom mask layer must be passed to the custom_objects argument.\n",
            "  category=CustomMaskWarning)\n"
          ],
          "name": "stderr"
        }
      ]
    },
    {
      "cell_type": "code",
      "metadata": {
        "pycharm": {
          "name": "#%%\n"
        },
        "colab": {
          "base_uri": "https://localhost:8080/"
        },
        "id": "Iia9wSytwwfU",
        "outputId": "6c247234-37a8-43bf-dc81-4292bc687f7a"
      },
      "source": [
        "# test evaluation\n",
        "model.evaluate(test_iterator)"
      ],
      "execution_count": null,
      "outputs": [
        {
          "output_type": "stream",
          "text": [
            "3/3 [==============================] - 16s 8s/step - loss: 0.1011 - accuracy: 0.9752\n"
          ],
          "name": "stdout"
        },
        {
          "output_type": "execute_result",
          "data": {
            "text/plain": [
              "[0.1010705754160881, 0.9752066135406494]"
            ]
          },
          "metadata": {
            "tags": []
          },
          "execution_count": 12
        }
      ]
    },
    {
      "cell_type": "code",
      "metadata": {
        "pycharm": {
          "name": "#%%\n"
        },
        "colab": {
          "base_uri": "https://localhost:8080/",
          "height": 388
        },
        "id": "5kLxyiKXwwfU",
        "outputId": "aa783c4d-140e-41a2-d3b2-34e7a9e3241f"
      },
      "source": [
        "plot_result(history)"
      ],
      "execution_count": null,
      "outputs": [
        {
          "output_type": "display_data",
          "data": {
            "image/png": "[encoded data removed]",
            "text/plain": [
              "<Figure size 1080x360 with 2 Axes>"
            ]
          },
          "metadata": {
            "tags": [],
            "needs_background": "light"
          }
        }
      ]
    },
    {
      "cell_type": "code",
      "metadata": {
        "pycharm": {
          "name": "#%%\n"
        },
        "id": "nNPy0LWHwwfU"
      },
      "source": [
        ""
      ],
      "execution_count": null,
      "outputs": []
    }
  ]
}