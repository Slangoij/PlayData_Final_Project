{
 "nbformat": 4,
 "nbformat_minor": 0,
 "metadata": {
  "colab": {
   "name": "LSTM_process.ipynb",
   "provenance": [],
   "collapsed_sections": [],
   "mount_file_id": "12UZhsGkOx-_yHiQ-EIaAiMqzQUkCwBZu",
   "authorship_tag": "ABX9TyOH0UtAXT7tN04Yr5DIs/yR"
  },
  "kernelspec": {
   "name": "pycharm-52dd69e0",
   "language": "python",
   "display_name": "PyCharm (01_playdata_final_project)"
  },
  "language_info": {
   "name": "python"
  }
 },
 "cells": [
  {
   "cell_type": "code",
   "metadata": {
    "id": "fhCrLq23mI-r",
    "colab": {
     "base_uri": "https://localhost:8080/"
    },
    "executionInfo": {
     "status": "ok",
     "timestamp": 1624276501673,
     "user_tz": -540,
     "elapsed": 436,
     "user": {
      "displayName": "ij_slango",
      "photoUrl": "",
      "userId": "09506281120044103924"
     }
    },
    "outputId": "81978e1b-8e98-40ba-f617-0950ce49eae6"
   },
   "source": [
    "from google.colab import drive\n",
    "drive.mount('/content/drive')"
   ],
   "execution_count": 1,
   "outputs": [
    {
     "output_type": "stream",
     "text": [
      "Drive already mounted at /content/drive; to attempt to forcibly remount, call drive.mount(\"/content/drive\", force_remount=True).\n"
     ],
     "name": "stdout"
    }
   ]
  },
  {
   "cell_type": "code",
   "metadata": {
    "id": "VfomY5V3l4cm",
    "executionInfo": {
     "status": "ok",
     "timestamp": 1624280079457,
     "user_tz": -540,
     "elapsed": 3,
     "user": {
      "displayName": "ij_slango",
      "photoUrl": "",
      "userId": "09506281120044103924"
     }
    }
   },
   "source": [
    "import os\n",
    "import random\n",
    "import numpy as np\n",
    "import pandas as pd\n",
    "import matplotlib.pyplot as plt\n",
    "import tensorflow as tf\n",
    "from tensorflow import keras\n",
    "from tensorflow.keras import layers\n",
    "from tensorflow.keras.layers import Dense, LSTM\n",
    "\n",
    "# 하이퍼 파라미터\n",
    "LEARNING_RATE = 0.001\n",
    "N_EPOCHS = 20\n",
    "N_BATCHS = 200\n",
    "NUM_CLASSES = 4 # 클래스 개수\n",
    "CLASS_MODE = 'categorical'\n",
    "\n",
    "BASE_PATH = '/content/drive/MyDrive/Final_project/PlayData_Final_Project'\n",
    "ORIGINAL_PATH = '/content/drive/MyDrive/Final_project/PlayData_Final_Project/inputdata_preprocessing/img'\n",
    "AUGMENT_PATH = '/content/drive/MyDrive/Final_project/PlayData_Final_Project/inputdata_preprocessing/augmentImg'\n",
    "train_dir = './inputdata_preprocessing/classedImg/train'\n",
    "validation_dir = './inputdata_preprocessing/classedImg/val'\n",
    "test_dir = './inputdata_preprocessing/classedImg/test'"
   ],
   "execution_count": 31,
   "outputs": []
  },
  {
   "cell_type": "code",
   "metadata": {
    "colab": {
     "base_uri": "https://localhost:8080/"
    },
    "id": "GU2GjVHfp59a",
    "executionInfo": {
     "status": "ok",
     "timestamp": 1624277003265,
     "user_tz": -540,
     "elapsed": 465,
     "user": {
      "displayName": "ij_slango",
      "photoUrl": "",
      "userId": "09506281120044103924"
     }
    },
    "outputId": "c3338ae1-d1d5-45bd-aad4-99aa92322bfb"
   },
   "source": [
    "%pwd\n",
    "%cd '/content/drive/MyDrive/Final_project/PlayData_Final_Project'"
   ],
   "execution_count": 4,
   "outputs": [
    {
     "output_type": "stream",
     "text": [
      "/content/drive/.shortcut-targets-by-id/1M8PxNWOxRC7Du0zHac00XxeLLiSY6iXG/Final_project/PlayData_Final_Project\n"
     ],
     "name": "stdout"
    }
   ]
  },
  {
   "cell_type": "markdown",
   "metadata": {
    "id": "sIloX8fhuoMu"
   },
   "source": [
    "# 데이터 LSTM에 맞게 전처리"
   ]
  },
  {
   "cell_type": "code",
   "metadata": {
    "id": "607uAcSaumD7",
    "executionInfo": {
     "status": "ok",
     "timestamp": 1624280422678,
     "user_tz": -540,
     "elapsed": 2179,
     "user": {
      "displayName": "ij_slango",
      "photoUrl": "",
      "userId": "09506281120044103924"
     }
    }
   },
   "source": [
    "# 전체 csv는 20(frame수), 4 의 size로 구성 가정\n",
    "# 결측치 없다고 가정\n",
    "# 라벨링은 각 동작 csv의 라벨(동작 번호)를 통해\n",
    "\n",
    "# 학습데이터 및 모델 경로 설정\n",
    "csv_dir = './inputdata_preprocessing/csv'\n",
    "csv_name = '통합문서1.csv' # csv파일이름 저장하기!!!!!!!########\n",
    "\n",
    "# (20,4), 프레임*(x,y)로 원하는 학습데이터 형태로 분할\n",
    "IMAGE_SIZE = (640, 360)\n",
    "DATA_FRAME = 20\n",
    "INPUT_SHAPE = (DATA_FRAME, 4) # xy쌍 2개\n",
    "data_X, data_y = [], []\n",
    "label_list = [dir for dir in os.listdir(csv_dir) if os.path.isdir(os.path.join(csv_dir, dir))] # [다음, 이전, ...]\n",
    "# print(label_list)\n",
    "for label, label_name in enumerate(label_list):\n",
    "  now_label_path = os.path.join(csv_dir, label_name)\n",
    "  csv_list = [fname for fname in os.listdir(now_label_path) if os.path.splitext(fname)[-1]=='.csv']\n",
    "  # print(csv_list)\n",
    "  # csv파일 읽어오기\n",
    "  for csv_name in csv_list:\n",
    "    df = pd.read_csv(os.path.join(now_label_path, csv_name), header=None)\n",
    "\n",
    "    # MinMaxScaler가 아닌 캔버스 크기 대비 위치 비율로 data 스케일링 진행\n",
    "    for i in range(4):\n",
    "      df[df.columns[i]] = df[df.columns[i]]/IMAGE_SIZE[i%2]\n",
    "      \n",
    "    data_X.append(df)\n",
    "    data_y.append(label)\n",
    "\n",
    "# label은 OneHotEncoding\n",
    "data_y = keras.utils.to_categorical(data_y) # 알아서 shape 관리 잘되는지 확인!!!!\n",
    "# print(data_y)\n",
    "\n",
    "to_shuff_all = [[x,y] for x, y in zip(data_X, data_y)]\n",
    "random.shuffle(to_shuff_all)\n",
    "data_X = [tmp[0] for tmp in to_shuff_all]\n",
    "data_y = [tmp[1] for tmp in to_shuff_all]\n",
    "\n",
    "# train, val, test 분리\n",
    "train_idx = int(len(data_y)*0.7)\n",
    "val_idx = int(len(data_y)*0.9)\n",
    "\n",
    "X_train, y_train = np.array(data_X[:train_idx]), np.array(data_y[:train_idx])\n",
    "X_val, y_val = np.array(data_X[:val_idx]), np.array(data_y[:val_idx])\n",
    "X_test, y_test = np.array(data_X[val_idx:]), np.array(data_y[val_idx:])"
   ],
   "execution_count": 35,
   "outputs": []
  },
  {
   "cell_type": "code",
   "metadata": {
    "colab": {
     "base_uri": "https://localhost:8080/"
    },
    "id": "B2nh6450kxaf",
    "executionInfo": {
     "status": "ok",
     "timestamp": 1624280840941,
     "user_tz": -540,
     "elapsed": 313,
     "user": {
      "displayName": "ij_slango",
      "photoUrl": "",
      "userId": "09506281120044103924"
     }
    },
    "outputId": "088f088a-39f9-4ab5-b763-5eae45d80f0b"
   },
   "source": [
    "data_X[:15]"
   ],
   "execution_count": 45,
   "outputs": [
    {
     "output_type": "execute_result",
     "data": {
      "text/plain": [
       "[           0         1    2    3\n",
       " 0   0.521875  0.250000  0.0  0.0\n",
       " 1   0.500000  0.263889  0.0  0.0\n",
       " 2   0.476562  0.286111  0.0  0.0\n",
       " 3   0.454688  0.305556  0.0  0.0\n",
       " 4   0.429688  0.330556  0.0  0.0\n",
       " 5   0.401562  0.355556  0.0  0.0\n",
       " 6   0.373437  0.380556  0.0  0.0\n",
       " 7   0.343750  0.450000  0.0  0.0\n",
       " 8   0.334375  0.475000  0.0  0.0\n",
       " 9   0.323437  0.502778  0.0  0.0\n",
       " 10  0.320312  0.538889  0.0  0.0\n",
       " 11  0.320312  0.569444  0.0  0.0\n",
       " 12  0.323437  0.605556  0.0  0.0\n",
       " 13  0.332813  0.644444  0.0  0.0\n",
       " 14  0.343750  0.675000  0.0  0.0\n",
       " 15  0.368750  0.705556  0.0  0.0\n",
       " 16  0.384375  0.719444  0.0  0.0\n",
       " 17  0.407813  0.730556  0.0  0.0\n",
       " 18  0.437500  0.794444  0.0  0.0\n",
       " 19  0.459375  0.838889  0.0  0.0,            0         1    2    3\n",
       " 0   0.565625  0.369444  0.0  0.0\n",
       " 1   0.565625  0.369444  0.0  0.0\n",
       " 2   0.565625  0.358333  0.0  0.0\n",
       " 3   0.559375  0.355556  0.0  0.0\n",
       " 4   0.550000  0.358333  0.0  0.0\n",
       " 5   0.534375  0.369444  0.0  0.0\n",
       " 6   0.507812  0.397222  0.0  0.0\n",
       " 7   0.487500  0.419444  0.0  0.0\n",
       " 8   0.465625  0.458333  0.0  0.0\n",
       " 9   0.453125  0.500000  0.0  0.0\n",
       " 10  0.443750  0.538889  0.0  0.0\n",
       " 11  0.445312  0.575000  0.0  0.0\n",
       " 12  0.448437  0.613889  0.0  0.0\n",
       " 13  0.460938  0.652778  0.0  0.0\n",
       " 14  0.475000  0.708333  0.0  0.0\n",
       " 15  0.492188  0.752778  0.0  0.0\n",
       " 16  0.521875  0.797222  0.0  0.0\n",
       " 17  0.551562  0.833333  0.0  0.0\n",
       " 18  0.604688  0.855556  0.0  0.0\n",
       " 19  0.610938  0.847222  0.0  0.0,            0         1         2         3\n",
       " 0   0.662500  0.327778  0.829688  0.350000\n",
       " 1   0.632812  0.325000  0.818750  0.355556\n",
       " 2   0.615625  0.338889  0.806250  0.363889\n",
       " 3   0.595313  0.344444  0.792188  0.383333\n",
       " 4   0.584375  0.341667  0.000000  0.000000\n",
       " 5   0.559375  0.355556  0.000000  0.000000\n",
       " 6   0.553125  0.358333  0.000000  0.000000\n",
       " 7   0.548438  0.380556  0.000000  0.000000\n",
       " 8   0.540625  0.388889  0.000000  0.000000\n",
       " 9   0.537500  0.402778  0.000000  0.000000\n",
       " 10  0.535937  0.413889  0.000000  0.000000\n",
       " 11  0.540625  0.408333  0.000000  0.000000\n",
       " 12  0.535937  0.427778  0.000000  0.000000\n",
       " 13  0.537500  0.455556  0.000000  0.000000\n",
       " 14  0.532813  0.475000  0.000000  0.000000\n",
       " 15  0.529687  0.519444  0.000000  0.000000\n",
       " 16  0.517188  0.561111  0.000000  0.000000\n",
       " 17  0.517188  0.627778  0.000000  0.000000\n",
       " 18  0.528125  0.661111  0.000000  0.000000\n",
       " 19  0.559375  0.708333  0.000000  0.000000,            0         1         2         3\n",
       " 0   0.492188  0.436111  0.000000  0.000000\n",
       " 1   0.493750  0.369444  0.568750  0.369444\n",
       " 2   0.493750  0.333333  0.575000  0.311111\n",
       " 3   0.492188  0.277778  0.575000  0.263889\n",
       " 4   0.484375  0.241667  0.582812  0.219444\n",
       " 5   0.478125  0.200000  0.584375  0.183333\n",
       " 6   0.473438  0.158333  0.592187  0.155556\n",
       " 7   0.475000  0.116667  0.601562  0.127778\n",
       " 8   0.481250  0.102778  0.607812  0.119444\n",
       " 9   0.489063  0.097222  0.623437  0.122222\n",
       " 10  0.504687  0.097222  0.643750  0.136111\n",
       " 11  0.531250  0.105556  0.668750  0.155556\n",
       " 12  0.567187  0.116667  0.701562  0.188889\n",
       " 13  0.600000  0.133333  0.734375  0.219444\n",
       " 14  0.628125  0.150000  0.754687  0.250000\n",
       " 15  0.646875  0.169444  0.767188  0.272222\n",
       " 16  0.654687  0.191667  0.778125  0.294444\n",
       " 17  0.645312  0.213889  0.771875  0.311111\n",
       " 18  0.626563  0.244444  0.757812  0.336111\n",
       " 19  0.598437  0.288889  0.735938  0.361111,            0         1    2    3\n",
       " 0   0.604688  0.202778  0.0  0.0\n",
       " 1   0.607812  0.205556  0.0  0.0\n",
       " 2   0.610938  0.211111  0.0  0.0\n",
       " 3   0.615625  0.213889  0.0  0.0\n",
       " 4   0.621875  0.222222  0.0  0.0\n",
       " 5   0.631250  0.233333  0.0  0.0\n",
       " 6   0.653125  0.252778  0.0  0.0\n",
       " 7   0.678125  0.283333  0.0  0.0\n",
       " 8   0.692187  0.311111  0.0  0.0\n",
       " 9   0.703125  0.377778  0.0  0.0\n",
       " 10  0.715625  0.394444  0.0  0.0\n",
       " 11  0.725000  0.441667  0.0  0.0\n",
       " 12  0.728125  0.463889  0.0  0.0\n",
       " 13  0.720313  0.488889  0.0  0.0\n",
       " 14  0.704688  0.516667  0.0  0.0\n",
       " 15  0.682813  0.541667  0.0  0.0\n",
       " 16  0.662500  0.566667  0.0  0.0\n",
       " 17  0.637500  0.608333  0.0  0.0\n",
       " 18  0.623437  0.630556  0.0  0.0\n",
       " 19  0.609375  0.655556  0.0  0.0,            0         1         2         3\n",
       " 0   0.414062  0.569444  0.289062  0.572222\n",
       " 1   0.410938  0.527778  0.289062  0.519444\n",
       " 2   0.423438  0.480556  0.303125  0.472222\n",
       " 3   0.432812  0.455556  0.321875  0.438889\n",
       " 4   0.450000  0.419444  0.337500  0.397222\n",
       " 5   0.456250  0.408333  0.348438  0.369444\n",
       " 6   0.465625  0.391667  0.359375  0.352778\n",
       " 7   0.473438  0.383333  0.370312  0.330556\n",
       " 8   0.476562  0.369444  0.376563  0.316667\n",
       " 9   0.484375  0.355556  0.381250  0.311111\n",
       " 10  0.487500  0.344444  0.385937  0.302778\n",
       " 11  0.492188  0.341667  0.387500  0.297222\n",
       " 12  0.492188  0.330556  0.382812  0.291667\n",
       " 13  0.489063  0.325000  0.376563  0.297222\n",
       " 14  0.478125  0.313889  0.356250  0.319444\n",
       " 15  0.454688  0.319444  0.334375  0.325000\n",
       " 16  0.431250  0.319444  0.304688  0.397222\n",
       " 17  0.393750  0.327778  0.282813  0.430556\n",
       " 18  0.375000  0.350000  0.245312  0.444444\n",
       " 19  0.359375  0.408333  0.232813  0.500000,            0         1    2    3\n",
       " 0   0.382812  0.422222  0.0  0.0\n",
       " 1   0.395313  0.350000  0.0  0.0\n",
       " 2   0.396875  0.319444  0.0  0.0\n",
       " 3   0.392188  0.294444  0.0  0.0\n",
       " 4   0.384375  0.297222  0.0  0.0\n",
       " 5   0.379688  0.300000  0.0  0.0\n",
       " 6   0.373437  0.313889  0.0  0.0\n",
       " 7   0.371875  0.316667  0.0  0.0\n",
       " 8   0.370312  0.319444  0.0  0.0\n",
       " 9   0.371875  0.322222  0.0  0.0\n",
       " 10  0.373437  0.319444  0.0  0.0\n",
       " 11  0.375000  0.325000  0.0  0.0\n",
       " 12  0.351562  0.319444  0.0  0.0\n",
       " 13  0.303125  0.350000  0.0  0.0\n",
       " 14  0.253125  0.391667  0.0  0.0\n",
       " 15  0.225000  0.455556  0.0  0.0\n",
       " 16  0.195312  0.522222  0.0  0.0\n",
       " 17  0.182812  0.575000  0.0  0.0\n",
       " 18  0.175000  0.630556  0.0  0.0\n",
       " 19  0.196875  0.661111  0.0  0.0,            0         1         2         3\n",
       " 0   0.484375  0.636111  0.390625  0.733333\n",
       " 1   0.496875  0.588889  0.375000  0.625000\n",
       " 2   0.501563  0.580556  0.370312  0.583333\n",
       " 3   0.512500  0.594444  0.368750  0.513889\n",
       " 4   0.498437  0.522222  0.365625  0.486111\n",
       " 5   0.500000  0.447222  0.359375  0.455556\n",
       " 6   0.500000  0.411111  0.360938  0.433333\n",
       " 7   0.535937  0.333333  0.384375  0.436111\n",
       " 8   0.531250  0.363889  0.415625  0.436111\n",
       " 9   0.559375  0.355556  0.412500  0.447222\n",
       " 10  0.623437  0.425000  0.479687  0.469444\n",
       " 11  0.643750  0.441667  0.507812  0.491667\n",
       " 12  0.675000  0.477778  0.540625  0.516667\n",
       " 13  0.692187  0.491667  0.567187  0.533333\n",
       " 14  0.707812  0.522222  0.585938  0.566667\n",
       " 15  0.712500  0.544444  0.579688  0.588889\n",
       " 16  0.706250  0.555556  0.568750  0.613889\n",
       " 17  0.701562  0.572222  0.548438  0.627778\n",
       " 18  0.690625  0.600000  0.535937  0.638889\n",
       " 19  0.685937  0.638889  0.523438  0.694444,            0         1         2         3\n",
       " 0   0.384375  0.497222  0.218750  0.555556\n",
       " 1   0.342187  0.541667  0.192188  0.600000\n",
       " 2   0.304688  0.605556  0.160938  0.661111\n",
       " 3   0.292187  0.622222  0.150000  0.686111\n",
       " 4   0.290625  0.638889  0.148438  0.688889\n",
       " 5   0.303125  0.672222  0.160938  0.705556\n",
       " 6   0.329688  0.536111  0.000000  0.000000\n",
       " 7   0.315625  0.497222  0.231250  0.550000\n",
       " 8   0.320312  0.463889  0.221875  0.494444\n",
       " 9   0.323437  0.436111  0.212500  0.452778\n",
       " 10  0.315625  0.394444  0.200000  0.427778\n",
       " 11  0.310937  0.361111  0.189062  0.394444\n",
       " 12  0.298438  0.294444  0.167187  0.338889\n",
       " 13  0.292187  0.266667  0.162500  0.322222\n",
       " 14  0.285938  0.238889  0.157812  0.300000\n",
       " 15  0.281250  0.219444  0.153125  0.291667\n",
       " 16  0.278125  0.205556  0.148438  0.280556\n",
       " 17  0.275000  0.194444  0.146875  0.275000\n",
       " 18  0.273438  0.186111  0.142187  0.269444\n",
       " 19  0.273438  0.177778  0.142187  0.272222,            0         1         2         3\n",
       " 0   0.701562  0.238889  0.796875  0.247222\n",
       " 1   0.709375  0.211111  0.807813  0.230556\n",
       " 2   0.725000  0.186111  0.823438  0.216667\n",
       " 3   0.739062  0.169444  0.831250  0.205556\n",
       " 4   0.756250  0.158333  0.845313  0.200000\n",
       " 5   0.773438  0.152778  0.856250  0.200000\n",
       " 6   0.787500  0.147222  0.868750  0.200000\n",
       " 7   0.803125  0.144444  0.879687  0.205556\n",
       " 8   0.817187  0.147222  0.892188  0.213889\n",
       " 9   0.837500  0.150000  0.907813  0.227778\n",
       " 10  0.854688  0.158333  0.918750  0.244444\n",
       " 11  0.875000  0.166667  0.926562  0.255556\n",
       " 12  0.887500  0.175000  0.932813  0.272222\n",
       " 13  0.898438  0.188889  0.942187  0.286111\n",
       " 14  0.903125  0.200000  0.948438  0.297222\n",
       " 15  0.896875  0.213889  0.953125  0.313889\n",
       " 16  0.893750  0.233333  0.954688  0.327778\n",
       " 17  0.890625  0.255556  0.954688  0.344444\n",
       " 18  0.884375  0.280556  0.951562  0.358333\n",
       " 19  0.885938  0.297222  0.950000  0.377778,            0         1         2         3\n",
       " 0   0.539062  0.597222  0.475000  0.544444\n",
       " 1   0.548438  0.597222  0.473438  0.538889\n",
       " 2   0.542188  0.575000  0.476562  0.536111\n",
       " 3   0.542188  0.569444  0.456250  0.444444\n",
       " 4   0.540625  0.541667  0.439063  0.455556\n",
       " 5   0.537500  0.461111  0.426563  0.425000\n",
       " 6   0.532813  0.419444  0.409375  0.461111\n",
       " 7   0.528125  0.397222  0.390625  0.486111\n",
       " 8   0.517188  0.411111  0.376563  0.516667\n",
       " 9   0.507812  0.433333  0.364063  0.566667\n",
       " 10  0.501563  0.455556  0.356250  0.605556\n",
       " 11  0.495312  0.486111  0.350000  0.638889\n",
       " 12  0.492188  0.516667  0.343750  0.672222\n",
       " 13  0.492188  0.538889  0.343750  0.697222\n",
       " 14  0.495312  0.561111  0.346875  0.713889\n",
       " 15  0.498437  0.580556  0.345313  0.730556\n",
       " 16  0.506250  0.611111  0.354687  0.750000\n",
       " 17  0.525000  0.636111  0.379688  0.777778\n",
       " 18  0.542188  0.658333  0.000000  0.000000\n",
       " 19  0.582812  0.694444  0.000000  0.000000,            0         1    2    3\n",
       " 0   0.646875  0.580556  0.0  0.0\n",
       " 1   0.640625  0.619444  0.0  0.0\n",
       " 2   0.643750  0.647222  0.0  0.0\n",
       " 3   0.650000  0.672222  0.0  0.0\n",
       " 4   0.660937  0.697222  0.0  0.0\n",
       " 5   0.673438  0.716667  0.0  0.0\n",
       " 6   0.690625  0.744444  0.0  0.0\n",
       " 7   0.704688  0.769444  0.0  0.0\n",
       " 8   0.721875  0.788889  0.0  0.0\n",
       " 9   0.734375  0.805556  0.0  0.0\n",
       " 10  0.748437  0.811111  0.0  0.0\n",
       " 11  0.757812  0.822222  0.0  0.0\n",
       " 12  0.767188  0.822222  0.0  0.0\n",
       " 13  0.775000  0.808333  0.0  0.0\n",
       " 14  0.782813  0.791667  0.0  0.0\n",
       " 15  0.787500  0.763889  0.0  0.0\n",
       " 16  0.790625  0.736111  0.0  0.0\n",
       " 17  0.789062  0.727778  0.0  0.0\n",
       " 18  0.792188  0.705556  0.0  0.0\n",
       " 19  0.800000  0.675000  0.0  0.0,            0         1         2         3\n",
       " 0   0.576562  0.536111  0.432812  0.575000\n",
       " 1   0.567187  0.483333  0.429688  0.522222\n",
       " 2   0.556250  0.436111  0.423438  0.477778\n",
       " 3   0.560937  0.405556  0.426563  0.438889\n",
       " 4   0.565625  0.352778  0.423438  0.413889\n",
       " 5   0.576562  0.344444  0.434375  0.402778\n",
       " 6   0.593750  0.344444  0.446875  0.402778\n",
       " 7   0.609375  0.355556  0.459375  0.416667\n",
       " 8   0.618750  0.369444  0.482812  0.433333\n",
       " 9   0.650000  0.397222  0.501563  0.450000\n",
       " 10  0.656250  0.419444  0.526563  0.461111\n",
       " 11  0.673438  0.461111  0.551562  0.480556\n",
       " 12  0.706250  0.486111  0.584375  0.505556\n",
       " 13  0.715625  0.513889  0.595313  0.530556\n",
       " 14  0.721875  0.530556  0.604688  0.555556\n",
       " 15  0.720313  0.547222  0.600000  0.575000\n",
       " 16  0.714063  0.558333  0.582812  0.602778\n",
       " 17  0.704688  0.575000  0.560937  0.613889\n",
       " 18  0.696875  0.597222  0.537500  0.633333\n",
       " 19  0.690625  0.613889  0.531250  0.666667,            0         1    2    3\n",
       " 0   0.279687  0.211111  0.0  0.0\n",
       " 1   0.273438  0.191667  0.0  0.0\n",
       " 2   0.268750  0.191667  0.0  0.0\n",
       " 3   0.264062  0.186111  0.0  0.0\n",
       " 4   0.259375  0.191667  0.0  0.0\n",
       " 5   0.262500  0.194444  0.0  0.0\n",
       " 6   0.265625  0.194444  0.0  0.0\n",
       " 7   0.268750  0.202778  0.0  0.0\n",
       " 8   0.278125  0.208333  0.0  0.0\n",
       " 9   0.287500  0.211111  0.0  0.0\n",
       " 10  0.304688  0.211111  0.0  0.0\n",
       " 11  0.314063  0.208333  0.0  0.0\n",
       " 12  0.323437  0.211111  0.0  0.0\n",
       " 13  0.335938  0.219444  0.0  0.0\n",
       " 14  0.350000  0.225000  0.0  0.0\n",
       " 15  0.373437  0.238889  0.0  0.0\n",
       " 16  0.400000  0.263889  0.0  0.0\n",
       " 17  0.429688  0.300000  0.0  0.0\n",
       " 18  0.456250  0.347222  0.0  0.0\n",
       " 19  0.467187  0.386111  0.0  0.0,            0         1         2         3\n",
       " 0   0.646875  0.380556  0.740625  0.402778\n",
       " 1   0.637500  0.344444  0.745313  0.377778\n",
       " 2   0.634375  0.322222  0.746875  0.361111\n",
       " 3   0.631250  0.291667  0.748437  0.347222\n",
       " 4   0.629687  0.272222  0.753125  0.333333\n",
       " 5   0.628125  0.255556  0.756250  0.322222\n",
       " 6   0.625000  0.238889  0.756250  0.313889\n",
       " 7   0.621875  0.236111  0.751563  0.313889\n",
       " 8   0.593750  0.241667  0.735938  0.308333\n",
       " 9   0.575000  0.250000  0.718750  0.308333\n",
       " 10  0.545312  0.263889  0.689063  0.308333\n",
       " 11  0.520312  0.277778  0.700000  0.361111\n",
       " 12  0.487500  0.305556  0.637500  0.313889\n",
       " 13  0.459375  0.333333  0.601562  0.330556\n",
       " 14  0.439063  0.352778  0.575000  0.336111\n",
       " 15  0.425000  0.377778  0.548438  0.347222\n",
       " 16  0.406250  0.400000  0.520312  0.383333\n",
       " 17  0.392188  0.416667  0.507812  0.405556\n",
       " 18  0.389062  0.444444  0.506250  0.436111\n",
       " 19  0.390625  0.469444  0.501563  0.455556]"
      ]
     },
     "metadata": {
      "tags": []
     },
     "execution_count": 45
    }
   ]
  },
  {
   "cell_type": "markdown",
   "metadata": {
    "id": "o2qLXEggurtM"
   },
   "source": [
    "# 모델 구현"
   ]
  },
  {
   "cell_type": "code",
   "metadata": {
    "id": "aVA-CxG7raxc",
    "executionInfo": {
     "status": "ok",
     "timestamp": 1624281947959,
     "user_tz": -540,
     "elapsed": 551,
     "user": {
      "displayName": "ij_slango",
      "photoUrl": "",
      "userId": "09506281120044103924"
     }
    }
   },
   "source": [
    "def create_model():\n",
    "  model = tf.keras.Sequential()\n",
    "  model.add(layers.Input((DATA_FRAME,4)))\n",
    "  model.add(layers.LSTM(20, activation='relu', return_sequences=False))\n",
    "  model.add(layers.Dropout(rate=0.5))\n",
    "  model.add(layers.Dense(10, activation='relu'))\n",
    "  model.add(layers.BatchNormalization())\n",
    "  model.add(layers.Dense(NUM_CLASSES, activation='softmax'))\n",
    "\n",
    "  return model"
   ],
   "execution_count": 51,
   "outputs": []
  },
  {
   "cell_type": "code",
   "metadata": {
    "colab": {
     "base_uri": "https://localhost:8080/"
    },
    "id": "_eGQ0gVOs4WR",
    "executionInfo": {
     "status": "ok",
     "timestamp": 1624281949632,
     "user_tz": -540,
     "elapsed": 479,
     "user": {
      "displayName": "ij_slango",
      "photoUrl": "",
      "userId": "09506281120044103924"
     }
    },
    "outputId": "8d113b4e-dd27-4f4b-8ec4-e09d9b9535e0"
   },
   "source": [
    "model = create_model()\n",
    "model.compile(optimizer=keras.optimizers.Adam(learning_rate=LEARNING_RATE),\n",
    "              loss='categorical_crossentropy', metrics=['accuracy'])\n",
    "model.summary()"
   ],
   "execution_count": 52,
   "outputs": [
    {
     "output_type": "stream",
     "text": [
      "WARNING:tensorflow:Please add `keras.layers.InputLayer` instead of `keras.Input` to Sequential model. `keras.Input` is intended to be used by Functional model.\n",
      "Model: \"sequential_5\"\n",
      "_________________________________________________________________\n",
      "Layer (type)                 Output Shape              Param #   \n",
      "=================================================================\n",
      "lstm_5 (LSTM)                (None, 20)                2000      \n",
      "_________________________________________________________________\n",
      "dropout_5 (Dropout)          (None, 20)                0         \n",
      "_________________________________________________________________\n",
      "dense_9 (Dense)              (None, 10)                210       \n",
      "_________________________________________________________________\n",
      "batch_normalization_5 (Batch (None, 10)                40        \n",
      "_________________________________________________________________\n",
      "dense_10 (Dense)             (None, 4)                 44        \n",
      "=================================================================\n",
      "Total params: 2,294\n",
      "Trainable params: 2,274\n",
      "Non-trainable params: 20\n",
      "_________________________________________________________________\n"
     ],
     "name": "stdout"
    }
   ]
  },
  {
   "cell_type": "code",
   "metadata": {
    "colab": {
     "base_uri": "https://localhost:8080/"
    },
    "id": "yHnCZS_D6zTI",
    "executionInfo": {
     "status": "ok",
     "timestamp": 1624283338270,
     "user_tz": -540,
     "elapsed": 11134,
     "user": {
      "displayName": "ij_slango",
      "photoUrl": "",
      "userId": "09506281120044103924"
     }
    },
    "outputId": "8385135a-e1c1-413a-d3e0-e1654611bc6e"
   },
   "source": [
    "MODEL_PATH = '/content/drive/MyDrive/Final_project/PlayData_Final_Project/model/lstm'\n",
    "if not os.path.isdir(MODEL_PATH):\n",
    "  os.makedirs(MODEL_PATH, exist_ok=True)\n",
    "# model = keras.models.load_model(os.path.join(MODEL_PATH)) # 직전 모델 로딩하여 재개\n",
    "\n",
    "if not os.path.isdir(MODEL_PATH):\n",
    "  os.makedirs(MODEL_PATH, exist_ok=True)\n",
    "callback_path = os.path.join(MODEL_PATH, 'save_model.ckpt')\n",
    "mc_callback = keras.callbacks.ModelCheckpoint(callback_path, monitor='val_loss', save_best_only=True)\n",
    "\n",
    "# 하이퍼 파라미터\n",
    "LEARNING_RATE = 0.001\n",
    "N_EPOCHS = 40\n",
    "N_BATCHS = 50\n",
    "\n",
    "N_TRAIN, N_TEST = X_train.shape[0], X_test.shape[0]\n",
    "steps_per_epoch = N_TRAIN // N_BATCHS\n",
    "validation_steps = int(np.ceil(N_TEST / N_BATCHS))\n",
    "\n",
    "train_dataset = tf.data.Dataset.from_tensor_slices((X_train, y_train)).shuffle(N_TRAIN).batch(N_BATCHS, drop_remainder=True).repeat()\n",
    "val_dataset = tf.data.Dataset.from_tensor_slices((X_val, y_val)).batch(N_BATCHS)\n",
    "test_dataset = tf.data.Dataset.from_tensor_slices((X_test, y_test)).batch(N_BATCHS)\n",
    "\n",
    "history = model.fit(train_dataset, epochs=N_EPOCHS, steps_per_epoch=steps_per_epoch,\n",
    "                    validation_data=test_dataset, validation_steps=validation_steps,\n",
    "                    callbacks=[mc_callback])"
   ],
   "execution_count": 60,
   "outputs": [
    {
     "output_type": "stream",
     "text": [
      "Epoch 1/40\n",
      "5/5 [==============================] - 1s 11ms/step - loss: 0.9130 - accuracy: 0.4480 - val_loss: 1.5733 - val_accuracy: 0.1750\n",
      "INFO:tensorflow:Assets written to: /content/drive/MyDrive/Final_project/PlayData_Final_Project/model/lstm/save_model.ckpt/assets\n",
      "Epoch 2/40\n",
      "5/5 [==============================] - 0s 10ms/step - loss: 0.9495 - accuracy: 0.4560 - val_loss: 1.5782 - val_accuracy: 0.1750\n",
      "Epoch 3/40\n",
      "5/5 [==============================] - 0s 10ms/step - loss: 0.9158 - accuracy: 0.4760 - val_loss: 1.3437 - val_accuracy: 0.1750\n",
      "INFO:tensorflow:Assets written to: /content/drive/MyDrive/Final_project/PlayData_Final_Project/model/lstm/save_model.ckpt/assets\n",
      "Epoch 4/40\n",
      "5/5 [==============================] - 0s 11ms/step - loss: 1.0414 - accuracy: 0.4600 - val_loss: 1.4951 - val_accuracy: 0.1750\n",
      "Epoch 5/40\n",
      "5/5 [==============================] - 0s 10ms/step - loss: 1.0991 - accuracy: 0.3800 - val_loss: 1.4417 - val_accuracy: 0.3000\n",
      "Epoch 6/40\n",
      "5/5 [==============================] - 0s 10ms/step - loss: 1.0706 - accuracy: 0.4040 - val_loss: 1.4298 - val_accuracy: 0.1750\n",
      "Epoch 7/40\n",
      "5/5 [==============================] - 0s 10ms/step - loss: 0.9860 - accuracy: 0.5040 - val_loss: 1.5112 - val_accuracy: 0.1750\n",
      "Epoch 8/40\n",
      "5/5 [==============================] - 0s 10ms/step - loss: 1.0270 - accuracy: 0.4240 - val_loss: 1.3768 - val_accuracy: 0.3000\n",
      "Epoch 9/40\n",
      "5/5 [==============================] - 0s 11ms/step - loss: 0.9799 - accuracy: 0.4600 - val_loss: 1.5088 - val_accuracy: 0.1750\n",
      "Epoch 10/40\n",
      "5/5 [==============================] - 0s 10ms/step - loss: 1.0442 - accuracy: 0.4520 - val_loss: 1.5690 - val_accuracy: 0.1750\n",
      "Epoch 11/40\n",
      "5/5 [==============================] - 0s 10ms/step - loss: 1.1464 - accuracy: 0.3960 - val_loss: 1.4306 - val_accuracy: 0.3250\n",
      "Epoch 12/40\n",
      "5/5 [==============================] - 0s 10ms/step - loss: 1.1994 - accuracy: 0.4120 - val_loss: 1.6158 - val_accuracy: 0.3000\n",
      "Epoch 13/40\n",
      "5/5 [==============================] - 0s 11ms/step - loss: 1.4862 - accuracy: 0.3520 - val_loss: 1.4841 - val_accuracy: 0.1750\n",
      "Epoch 14/40\n",
      "5/5 [==============================] - 0s 11ms/step - loss: 1.4088 - accuracy: 0.3320 - val_loss: 1.6003 - val_accuracy: 0.3000\n",
      "Epoch 15/40\n",
      "5/5 [==============================] - 0s 11ms/step - loss: 1.2614 - accuracy: 0.3680 - val_loss: 1.4252 - val_accuracy: 0.1750\n",
      "Epoch 16/40\n",
      "5/5 [==============================] - 0s 11ms/step - loss: 1.7044 - accuracy: 0.2480 - val_loss: 1.4150 - val_accuracy: 0.1750\n",
      "Epoch 17/40\n",
      "5/5 [==============================] - 0s 11ms/step - loss: 1.4247 - accuracy: 0.2840 - val_loss: 1.9888 - val_accuracy: 0.0000e+00\n",
      "Epoch 18/40\n",
      "5/5 [==============================] - 0s 10ms/step - loss: 1.3627 - accuracy: 0.3240 - val_loss: 1.9305 - val_accuracy: 0.4500\n",
      "Epoch 19/40\n",
      "5/5 [==============================] - 0s 11ms/step - loss: 1.3403 - accuracy: 0.3400 - val_loss: 1.4485 - val_accuracy: 0.3000\n",
      "Epoch 20/40\n",
      "5/5 [==============================] - 0s 10ms/step - loss: 1.3992 - accuracy: 0.2600 - val_loss: 1.4716 - val_accuracy: 0.2000\n",
      "Epoch 21/40\n",
      "5/5 [==============================] - 0s 15ms/step - loss: 1.3676 - accuracy: 0.2960 - val_loss: 1.4147 - val_accuracy: 0.1750\n",
      "Epoch 22/40\n",
      "5/5 [==============================] - 0s 12ms/step - loss: 1.2963 - accuracy: 0.3000 - val_loss: 1.4154 - val_accuracy: 0.1750\n",
      "Epoch 23/40\n",
      "5/5 [==============================] - 0s 10ms/step - loss: 1.2927 - accuracy: 0.3080 - val_loss: 1.4148 - val_accuracy: 0.1750\n",
      "Epoch 24/40\n",
      "5/5 [==============================] - 0s 11ms/step - loss: 1.2506 - accuracy: 0.3520 - val_loss: 1.4715 - val_accuracy: 0.3000\n",
      "Epoch 25/40\n",
      "5/5 [==============================] - 0s 10ms/step - loss: 1.2447 - accuracy: 0.3800 - val_loss: 1.5316 - val_accuracy: 0.1750\n",
      "Epoch 26/40\n",
      "5/5 [==============================] - 0s 12ms/step - loss: 1.1474 - accuracy: 0.4160 - val_loss: 1.5829 - val_accuracy: 0.3000\n",
      "Epoch 27/40\n",
      "5/5 [==============================] - 0s 11ms/step - loss: 1.2145 - accuracy: 0.3880 - val_loss: 1.7377 - val_accuracy: 0.1750\n",
      "Epoch 28/40\n",
      "5/5 [==============================] - 0s 11ms/step - loss: 1.1192 - accuracy: 0.4480 - val_loss: 1.7836 - val_accuracy: 0.1750\n",
      "Epoch 29/40\n",
      "5/5 [==============================] - 0s 10ms/step - loss: 1.1227 - accuracy: 0.3720 - val_loss: 1.6795 - val_accuracy: 0.1750\n",
      "Epoch 30/40\n",
      "5/5 [==============================] - 0s 12ms/step - loss: 1.1790 - accuracy: 0.4080 - val_loss: 1.7355 - val_accuracy: 0.1750\n",
      "Epoch 31/40\n",
      "5/5 [==============================] - 0s 11ms/step - loss: 1.1398 - accuracy: 0.4040 - val_loss: 1.9567 - val_accuracy: 0.1750\n",
      "Epoch 32/40\n",
      "5/5 [==============================] - 0s 10ms/step - loss: 1.1794 - accuracy: 0.3960 - val_loss: 1.4515 - val_accuracy: 0.1750\n",
      "Epoch 33/40\n",
      "5/5 [==============================] - 0s 11ms/step - loss: 1.1054 - accuracy: 0.3840 - val_loss: 1.6522 - val_accuracy: 0.1750\n",
      "Epoch 34/40\n",
      "5/5 [==============================] - 0s 11ms/step - loss: 1.0960 - accuracy: 0.4560 - val_loss: 1.6034 - val_accuracy: 0.1750\n",
      "Epoch 35/40\n",
      "5/5 [==============================] - 0s 10ms/step - loss: 1.1404 - accuracy: 0.4560 - val_loss: 1.7387 - val_accuracy: 0.1750\n",
      "Epoch 36/40\n",
      "5/5 [==============================] - 0s 10ms/step - loss: 1.0982 - accuracy: 0.3520 - val_loss: 1.5443 - val_accuracy: 0.1750\n",
      "Epoch 37/40\n",
      "5/5 [==============================] - 0s 10ms/step - loss: 1.0288 - accuracy: 0.4240 - val_loss: 1.5214 - val_accuracy: 0.1750\n",
      "Epoch 38/40\n",
      "5/5 [==============================] - 0s 12ms/step - loss: 1.1063 - accuracy: 0.4000 - val_loss: 1.6641 - val_accuracy: 0.1750\n",
      "Epoch 39/40\n",
      "5/5 [==============================] - 0s 10ms/step - loss: 1.1376 - accuracy: 0.3960 - val_loss: 1.6280 - val_accuracy: 0.1750\n",
      "Epoch 40/40\n",
      "5/5 [==============================] - 0s 10ms/step - loss: 1.1683 - accuracy: 0.4320 - val_loss: 1.5393 - val_accuracy: 0.1750\n"
     ],
     "name": "stdout"
    }
   ]
  },
  {
   "cell_type": "code",
   "metadata": {
    "id": "31l-qfOg-k5R",
    "colab": {
     "base_uri": "https://localhost:8080/"
    },
    "executionInfo": {
     "status": "ok",
     "timestamp": 1624281282721,
     "user_tz": -540,
     "elapsed": 293,
     "user": {
      "displayName": "ij_slango",
      "photoUrl": "",
      "userId": "09506281120044103924"
     }
    },
    "outputId": "114d239a-9c70-45ba-8e56-2568d570b701"
   },
   "source": [
    "model.evaluate(val_dataset)\n",
    "model.evaluate(test_dataset)\n",
    "\n",
    "# h5형식으로 저장\n",
    "model_h5_path = os.path.join(MODEL_PATH, 'lstm_model.h5')"
   ],
   "execution_count": 50,
   "outputs": [
    {
     "output_type": "stream",
     "text": [
      "4/4 [==============================] - 0s 5ms/step - loss: 1.0629 - accuracy: 0.5111\n",
      "1/1 [==============================] - 0s 18ms/step - loss: 1.0579 - accuracy: 0.4000\n"
     ],
     "name": "stdout"
    }
   ]
  },
  {
   "cell_type": "code",
   "metadata": {
    "id": "q507Y9VUwIno",
    "executionInfo": {
     "status": "ok",
     "timestamp": 1624282010237,
     "user_tz": -540,
     "elapsed": 503,
     "user": {
      "displayName": "ij_slango",
      "photoUrl": "",
      "userId": "09506281120044103924"
     }
    }
   },
   "source": [
    "def plot_result(history, ymin=None, ymax=None):\n",
    "    plt.figure(figsize=(15,5))\n",
    "    plt.subplot(1,2,1)\n",
    "\n",
    "    plt.plot(range(1,N_EPOCHS+1), history.history['loss'], label='train loss')\n",
    "    plt.plot(range(1,N_EPOCHS+1), history.history['val_loss'], label='validation loss')\n",
    "    plt.title('LOSS')\n",
    "    plt.xlabel('Epochs')\n",
    "    plt.ylabel('Loss')\n",
    "    if ymin!=None and ymax!=None:\n",
    "        plt.ylim(ymin, ymax)\n",
    "    plt.legend()\n",
    "\n",
    "    plt.subplot(1,2,2)\n",
    "    plt.plot(range(1, N_EPOCHS+1), history.history['accuracy'], label='train accuracy')\n",
    "    plt.plot(range(1, N_EPOCHS+1), history.history['val_accuracy'], label='validation accuracy')\n",
    "    plt.title('ACCURACY')\n",
    "    plt.xlabel('Epochs')\n",
    "    plt.ylabel('Accuracy')\n",
    "    if ymin!=None and ymax!=None:\n",
    "        plt.ylim(ymin, ymax)\n",
    "    plt.legend()\n",
    "\n",
    "    plt.tight_layout()\n",
    "    plt.show()"
   ],
   "execution_count": 55,
   "outputs": []
  },
  {
   "cell_type": "code",
   "metadata": {
    "colab": {
     "base_uri": "https://localhost:8080/",
     "height": 369
    },
    "id": "IQ2iKHBdwDeS",
    "executionInfo": {
     "status": "ok",
     "timestamp": 1624282175662,
     "user_tz": -540,
     "elapsed": 1056,
     "user": {
      "displayName": "ij_slango",
      "photoUrl": "",
      "userId": "09506281120044103924"
     }
    },
    "outputId": "19f78365-a4b7-40d0-9001-50fe668af392"
   },
   "source": [
    "plot_result(history)"
   ],
   "execution_count": 58,
   "outputs": [
    {
     "output_type": "display_data",
     "data": {
      "image/png": "[encoded data removed]",
      "text/plain": [
       "<Figure size 1080x360 with 2 Axes>"
      ]
     },
     "metadata": {
      "tags": [],
      "needs_background": "light"
     }
    }
   ]
  },
  {
   "cell_type": "code",
   "execution_count": null,
   "outputs": [],
   "source": [
    "5+5"
   ],
   "metadata": {
    "collapsed": false,
    "pycharm": {
     "name": "#%%\n"
    }
   }
  },
  {
   "cell_type": "code",
   "execution_count": null,
   "outputs": [],
   "source": [],
   "metadata": {
    "collapsed": false,
    "pycharm": {
     "name": "#%%\n"
    }
   }
  }
 ]
}